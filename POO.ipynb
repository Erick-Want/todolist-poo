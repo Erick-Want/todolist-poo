{
 "cells": [
  {
   "cell_type": "code",
   "execution_count": null,
   "metadata": {},
   "outputs": [],
   "source": [
    "class ListaTarefas ():\n",
    "    def __init__(self):\n",
    "        self.lista_tarefas = {}\n",
    "    def adicionar_tarefa (self):\n",
    "        pass\n",
    "    def remover_tarefa (self):\n",
    "        pass\n",
    "    def alterar_status (self):\n",
    "        pass\n",
    "    def imprimir_tarefas (self):\n",
    "        pass\n",
    "    def converter_para_csv (self):\n",
    "        pass\n",
    "    def ler_csv (self):\n",
    "        pass\n",
    "    def converter_data (self):\n",
    "        pass"
   ]
  }
 ],
 "metadata": {
  "interpreter": {
   "hash": "df8fc15bc6be0350376ea913212ff178c329913a9c3d068a361af6993f5df14f"
  },
  "kernelspec": {
   "display_name": "Python 3.9.5 64-bit ('base': conda)",
   "language": "python",
   "name": "python3"
  },
  "language_info": {
   "name": "python",
   "version": "3.9.5"
  },
  "orig_nbformat": 4
 },
 "nbformat": 4,
 "nbformat_minor": 2
}

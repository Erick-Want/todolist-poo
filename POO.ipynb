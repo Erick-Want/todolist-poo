{
 "cells": [
  {
   "cell_type": "code",
   "execution_count": 2,
   "metadata": {},
   "outputs": [],
   "source": [
    "import xlsxwriter\n",
    "import datetime\n",
    "from pandas import *"
   ]
  },
  {
   "cell_type": "code",
   "execution_count": 28,
   "metadata": {},
   "outputs": [],
   "source": [
    "class ListaTarefas ():\n",
    "    def __init__(self):\n",
    "        self.lista_tarefas = {}\n",
    "    def adicionar_tarefa (self, nome_tarefa, data_vencimento = datetime.date.today(), categoria = 'Nenhuma'):\n",
    "        self.ler_csv()\n",
    "        self.lista_tarefas[nome_tarefa] = {'Data de Vencimento': self.converter_data(data_vencimento), 'Categoria': categoria, 'Status': 'Pendente'}\n",
    "        self.converter_para_csv()\n",
    "    def remover_tarefa (self, nome_tarefa):\n",
    "        self.ler_csv()\n",
    "        if (nome_tarefa in self.lista_tarefas):\n",
    "            del self.lista_tarefas[nome_tarefa]\n",
    "        else:\n",
    "            print(f'Tarefa {nome_tarefa} não encontrada!')\n",
    "        self.converter_para_csv()\n",
    "    def alterar_status (self):\n",
    "        pass\n",
    "    def imprimir_tarefas (self):\n",
    "        pass\n",
    "    def converter_para_csv (self):\n",
    "        workbook = xlsxwriter.Workbook('File.csv')\n",
    "        worksheet = workbook.add_worksheet()                            \n",
    "        linha = 0\n",
    "        coluna = 0\n",
    "        #worksheet.write(linha, coluna, 'Tarefa')\n",
    "        worksheet.write(linha, coluna+1, 'Data de Vencimento')\n",
    "        worksheet.write(linha, coluna+2, 'Categoria')\n",
    "        worksheet.write(linha, coluna+3, 'Status')\n",
    "        for chave in self.lista_tarefas.keys():\n",
    "            linha += 1\n",
    "            coluna = 0\n",
    "            worksheet.write(linha, coluna, chave)\n",
    "            for item in self.lista_tarefas[chave]:\n",
    "                coluna += 1\n",
    "                worksheet.write(linha, coluna, self.lista_tarefas[chave][item])\n",
    "        workbook.close()\n",
    "\n",
    "    def ler_csv (self):\n",
    "        csv = ExcelFile('File.csv')\n",
    "        self.lista_tarefas = csv.parse(csv.sheet_names[0], index_col= 0)\n",
    "        self.lista_tarefas = self.lista_tarefas.to_dict('index')\n",
    "\n",
    "    @staticmethod\n",
    "    def converter_data (data_entrada):\n",
    "        dia, mes, ano = map(int, data_entrada.split('/'))\n",
    "        data_entrada = datetime.datetime(ano, mes, dia)\n",
    "\n",
    "        return data_entrada\n",
    "    "
   ]
  }
 ],
 "metadata": {
  "interpreter": {
   "hash": "df8fc15bc6be0350376ea913212ff178c329913a9c3d068a361af6993f5df14f"
  },
  "kernelspec": {
   "display_name": "Python 3.9.5 64-bit ('base': conda)",
   "language": "python",
   "name": "python3"
  },
  "language_info": {
   "codemirror_mode": {
    "name": "ipython",
    "version": 3
   },
   "file_extension": ".py",
   "mimetype": "text/x-python",
   "name": "python",
   "nbconvert_exporter": "python",
   "pygments_lexer": "ipython3",
   "version": "3.8.10"
  },
  "orig_nbformat": 4
 },
 "nbformat": 4,
 "nbformat_minor": 2
}

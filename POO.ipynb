{
 "cells": [
  {
   "cell_type": "code",
   "execution_count": 1,
   "metadata": {},
   "outputs": [],
   "source": [
    "import csv\n",
    "import datetime"
   ]
  },
  {
   "cell_type": "code",
   "execution_count": 6,
   "metadata": {},
   "outputs": [],
   "source": [
    "class ListaTarefas ():\n",
    "    def __init__(self):\n",
    "        self.lista_tarefas = []\n",
    "    def adicionar_tarefa (self, nome_tarefa, data_vencimento = datetime.date.today(), categoria = 'Nenhuma'):\n",
    "        tarefa = ([nome_tarefa, self.converter_data(data_vencimento), categoria])\n",
    "        \n",
    "        with open('File.csv', 'a') as arquivo:\n",
    "            escritor = csv.writer(arquivo, delimiter=',', lineterminator='\\n')\n",
    "            escritor.writerow(tarefa)\n",
    "\n",
    "    def remover_tarefa (self, nome_tarefa):\n",
    "        self.ler_csv()\n",
    "\n",
    "        for tarefa in self.lista_tarefas:\n",
    "            if tarefa[0] == nome_tarefa:\n",
    "                self.lista_tarefas.remove(tarefa)\n",
    "        self.converter_para_csv()\n",
    "        \n",
    "    def alterar_status (self):\n",
    "        pass\n",
    "    def imprimir_tarefas (self):\n",
    "        pass\n",
    "    def converter_para_csv (self):\n",
    "        with open('File.csv', 'w') as arquivo:\n",
    "            escritor = csv.writer(arquivo, delimiter=',', lineterminator='\\n')\n",
    "            for tarefa in self.lista_tarefas:\n",
    "                escritor.writerow(tarefa)\n",
    "                \n",
    "    def ler_csv (self):\n",
    "        with open('File.csv') as arquivo:\n",
    "            self.lista_tarefas = list(csv.reader(arquivo, delimiter=',', lineterminator='\\n'))\n",
    "\n",
    "    @staticmethod\n",
    "    def converter_data (data_entrada):\n",
    "        dia, mes, ano = map(int, data_entrada.split('/'))\n",
    "        data_entrada = datetime.datetime(ano, mes, dia)\n",
    "\n",
    "        return data_entrada\n",
    "    "
   ]
  },
  {
   "cell_type": "code",
   "execution_count": 7,
   "metadata": {},
   "outputs": [],
   "source": [
    "lista_tarefa = ListaTarefas ()"
   ]
  },
  {
   "cell_type": "code",
   "execution_count": 8,
   "metadata": {},
   "outputs": [],
   "source": [
    "lista_tarefa.adicionar_tarefa('TESTE0', '10/01/2022')"
   ]
  },
  {
   "cell_type": "code",
   "execution_count": 9,
   "metadata": {},
   "outputs": [
    {
     "name": "stdout",
     "output_type": "stream",
     "text": [
      "[['TESTE0', '2022-01-10 00:00:00', 'Nenhuma']]\n"
     ]
    }
   ],
   "source": [
    "lista_tarefa.remover_tarefa('TESTE0')"
   ]
  },
  {
   "cell_type": "code",
   "execution_count": 12,
   "metadata": {},
   "outputs": [
    {
     "name": "stdout",
     "output_type": "stream",
     "text": [
      "[]\n"
     ]
    }
   ],
   "source": [
    "print(lista_tarefa.lista_tarefas)"
   ]
  }
 ],
 "metadata": {
  "interpreter": {
   "hash": "df8fc15bc6be0350376ea913212ff178c329913a9c3d068a361af6993f5df14f"
  },
  "kernelspec": {
   "display_name": "Python 3.9.5 64-bit ('base': conda)",
   "language": "python",
   "name": "python3"
  },
  "language_info": {
   "codemirror_mode": {
    "name": "ipython",
    "version": 3
   },
   "file_extension": ".py",
   "mimetype": "text/x-python",
   "name": "python",
   "nbconvert_exporter": "python",
   "pygments_lexer": "ipython3",
   "version": "3.8.10"
  },
  "orig_nbformat": 4
 },
 "nbformat": 4,
 "nbformat_minor": 2
}
